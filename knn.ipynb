{
 "cells": [
  {
   "cell_type": "markdown",
   "source": [
    "# Bibliothèques"
   ],
   "metadata": {
    "collapsed": false
   },
   "id": "c739f45b6b261271"
  },
  {
   "cell_type": "code",
   "outputs": [],
   "source": [
    "import pickle\n",
    "import cv2\n",
    "from sklearn.neighbors import KNeighborsClassifier"
   ],
   "metadata": {
    "collapsed": true
   },
   "id": "initial_id",
   "execution_count": null
  },
  {
   "cell_type": "markdown",
   "source": [
    "# Chargement des données"
   ],
   "metadata": {
    "collapsed": false
   },
   "id": "87d33b3bdd776ac"
  },
  {
   "cell_type": "code",
   "outputs": [],
   "source": [
    "with open('data/visages.pkl', 'rb') as fh:\n",
    "    visages = pickle.load(fh)\n",
    "    visages = visages.reshape(len(visages), -1)\n",
    "\n",
    "with open('data/prenoms.pkl', 'rb') as fh:\n",
    "    noms = pickle.load(fh)\n",
    "    \n",
    "with open('data/admis.pkl', 'rb') as fh:\n",
    "    admis = pickle.load(fh)\n",
    "    \n",
    "print('Shape of visages matrix --> ', visages.shape)\n",
    "print(set(noms)) "
   ],
   "metadata": {
    "collapsed": false
   },
   "id": "f8a70883338f2b5",
   "execution_count": null
  },
  {
   "cell_type": "markdown",
   "source": [
    "# Entraînement du modèle"
   ],
   "metadata": {
    "collapsed": false
   },
   "id": "f180c8852a50f02c"
  },
  {
   "cell_type": "code",
   "outputs": [],
   "source": [
    "knn = KNeighborsClassifier(n_neighbors=4)\n",
    "knn.fit(visages, noms)"
   ],
   "metadata": {
    "collapsed": false
   },
   "id": "f9440a75b632b7fb"
  },
  {
   "cell_type": "markdown",
   "source": [
    "# Détection des visages en temps réel"
   ],
   "metadata": {
    "collapsed": false
   },
   "id": "f53bdd688e2e0536"
  },
  {
   "cell_type": "code",
   "outputs": [],
   "source": [
    "def detection_visage(model, noms, admis):\n",
    "    cascade_visage = cv2.CascadeClassifier(cv2.data.haarcascades + 'haarcascade_frontalface_default.xml')\n",
    "    camera = cv2.VideoCapture(0)\n",
    "    \n",
    "    while True:\n",
    "        ret, frame = camera.read()\n",
    "        \n",
    "        if ret:\n",
    "            coordonnees_visage = cascade_visage.detectMultiScale(cv2.cvtColor(frame, cv2.COLOR_BGR2GRAY), 1.3, 5)\n",
    "    \n",
    "            for (x, y, l, h) in coordonnees_visage:\n",
    "                visage = frame[y:y + h, x:x + l, :]\n",
    "                visage_redimensionne = cv2.resize(visage, (50, 50)).flatten().reshape(1,-1)\n",
    "                texte = model.predict(visage_redimensionne)\n",
    "                if admis[noms.index(texte[0])]:\n",
    "                    cv2.putText(frame, texte[0] + \" (Admis)\", (x, y-10), cv2.FONT_HERSHEY_SIMPLEX, 1, (255, 255, 255), 2)\n",
    "                    cv2.rectangle(frame, (x, y), (x + l, y + l), (0, 255, 0), 2)\n",
    "                else:\n",
    "                    cv2.putText(frame, texte[0] + \" (Non Admis)\", (x, y-10), cv2.FONT_HERSHEY_SIMPLEX, 1, (255, 255, 255), 2)\n",
    "                    cv2.rectangle(frame, (x, y), (x + l, y + l), (0, 0, 255), 2)\n",
    "                \n",
    "    \n",
    "            cv2.imshow('Reconnaissance faciale en temps réel', frame)\n",
    "            \n",
    "            if cv2.waitKey(1) == 27:\n",
    "                break\n",
    "                \n",
    "        else:\n",
    "            \n",
    "            print(\"erreur\")\n",
    "            break\n",
    "    \n",
    "    cv2.destroyAllWindows()\n",
    "    camera.release()"
   ],
   "metadata": {
    "collapsed": false
   },
   "id": "d6ed51eab6258da9",
   "execution_count": null
  },
  {
   "cell_type": "code",
   "outputs": [],
   "source": [
    "detection_visage(knn, noms, admis)"
   ],
   "metadata": {
    "collapsed": false
   },
   "id": "7dd6a9c58f1f0ac3",
   "execution_count": null
  }
 ],
 "metadata": {
  "kernelspec": {
   "display_name": "Python 3",
   "language": "python",
   "name": "python3"
  },
  "language_info": {
   "codemirror_mode": {
    "name": "ipython",
    "version": 2
   },
   "file_extension": ".py",
   "mimetype": "text/x-python",
   "name": "python",
   "nbconvert_exporter": "python",
   "pygments_lexer": "ipython2",
   "version": "2.7.6"
  }
 },
 "nbformat": 4,
 "nbformat_minor": 5
}

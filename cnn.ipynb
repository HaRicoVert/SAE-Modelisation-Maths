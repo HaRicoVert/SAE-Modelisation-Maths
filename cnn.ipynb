{
 "cells": [
  {
   "cell_type": "markdown",
   "source": [
    "# Bibliothèques"
   ],
   "metadata": {
    "collapsed": false
   },
   "id": "792a6ab25e7b2bbf"
  },
  {
   "cell_type": "code",
   "outputs": [],
   "source": [
    "import pickle\n",
    "import cv2\n",
    "import numpy as np\n",
    "from keras.models import Sequential\n",
    "from keras.layers import Conv2D, MaxPooling2D, Flatten, Dense\n",
    "from sklearn.preprocessing import LabelEncoder, OneHotEncoder"
   ],
   "metadata": {
    "collapsed": true
   },
   "id": "initial_id",
   "execution_count": null
  },
  {
   "cell_type": "markdown",
   "source": [
    "# Chargement des données"
   ],
   "metadata": {
    "collapsed": false
   },
   "id": "9d7a72215a2dcdeb"
  },
  {
   "cell_type": "code",
   "outputs": [],
   "source": [
    "with open('data/visages.pkl', 'rb') as fh:\n",
    "    visages = pickle.load(fh)\n",
    "    visages = visages.reshape(len(visages), -1)\n",
    "\n",
    "with open('data/prenoms.pkl', 'rb') as fh:\n",
    "    noms = pickle.load(fh)\n",
    "    \n",
    "with open('data/admis.pkl', 'rb') as fh:\n",
    "    admis = pickle.load(fh)\n",
    "    \n",
    "print('Shape of visages matrix --> ', visages.shape)\n",
    "print(set(noms)) "
   ],
   "metadata": {
    "collapsed": false
   },
   "id": "f8a70883338f2b5",
   "execution_count": null
  },
  {
   "cell_type": "markdown",
   "source": [
    "# Création du modèle CNN"
   ],
   "metadata": {
    "collapsed": false
   },
   "id": "f26850a7cb5e4fac"
  },
  {
   "cell_type": "code",
   "outputs": [],
   "source": [
    "# Initialisation du CNN\n",
    "model = Sequential()\n",
    "\n",
    "# Ajout des couches de convolution (extraction des caractéristiques à partir des images)\n",
    "model.add(Conv2D(32, (3, 3), activation='relu', input_shape=(50, 50, 3)))\n",
    "model.add(MaxPooling2D(pool_size=(2, 2)))\n",
    "model.add(Conv2D(64, (3, 3), activation='relu'))\n",
    "model.add(MaxPooling2D(pool_size=(2, 2)))\n",
    "\n",
    "# Aplatir les données\n",
    "model.add(Flatten())\n",
    "\n",
    "# Ajout des couches denses (classification des images)\n",
    "model.add(Dense(128, activation='relu'))\n",
    "model.add(Dense(len(set(noms)), activation='softmax')) \n",
    "\n",
    "# Compiler le modèle\n",
    "model.compile(optimizer='adam', loss='binary_crossentropy', metrics=['accuracy'])\n",
    "\n",
    "# Redimensionner les images des visages\n",
    "visages = visages.reshape(len(noms), 50, 50, 3)\n",
    "\n",
    "# Initialisation de l'encodeur de labels\n",
    "label_encoder = LabelEncoder()\n",
    "\n",
    "# Ajuster et transformer les labels pour produire des labels encodés\n",
    "encoded_noms = label_encoder.fit_transform(noms)\n",
    "\n",
    "# Redimensionner les labels encodés pour les utiliser avec OneHotEncoder\n",
    "encoded_noms = encoded_noms.reshape(len(encoded_noms), 1)\n",
    "\n",
    "# Initialisation de OneHotEncoder\n",
    "one_hot_encoder = OneHotEncoder(sparse_output=False)\n",
    "\n",
    "# Ajuster et transformer les labels encodés pour produire des labels one-hot encodés\n",
    "one_hot_noms = one_hot_encoder.fit_transform(encoded_noms)\n",
    "\n",
    "# Utiliser les labels one-hot encodés lors de l'entraînement du modèle\n",
    "model.fit(visages, one_hot_noms, epochs=10, batch_size=32, validation_split=0.2)"
   ],
   "metadata": {
    "collapsed": false
   },
   "id": "ae3b08bb94e0269e",
   "execution_count": null
  },
  {
   "cell_type": "markdown",
   "source": [
    "# Détection des visages en temps réel"
   ],
   "metadata": {
    "collapsed": false
   },
   "id": "6bf5dd586971b02d"
  },
  {
   "cell_type": "code",
   "outputs": [],
   "source": [
    "cascade_visage = cv2.CascadeClassifier(cv2.data.haarcascades + 'haarcascade_frontalface_default.xml')\n",
    "camera = cv2.VideoCapture(0)\n",
    "\n",
    "while True:\n",
    "    ret, frame = camera.read()\n",
    "    \n",
    "    if ret:\n",
    "        coordonnees_visage = cascade_visage.detectMultiScale(cv2.cvtColor(frame, cv2.COLOR_BGR2GRAY), 1.3, 5)\n",
    "\n",
    "        for (x, y, l, h) in coordonnees_visage:\n",
    "            visage = frame[y:y + h, x:x + l, :]\n",
    "            visage_redimensionne = cv2.resize(visage, (50, 50)).reshape(1, 50, 50, 3)\n",
    "            texte = label_encoder.inverse_transform([np.argmax(model.predict(visage_redimensionne))])\n",
    "            if admis[noms.index(texte[0])]:\n",
    "                cv2.putText(frame, texte[0] + \" (Admis)\", (x, y-10), cv2.FONT_HERSHEY_SIMPLEX, 1, (255, 255, 255), 2)\n",
    "                cv2.rectangle(frame, (x, y), (x + l, y + l), (0, 255, 0), 2)\n",
    "            else:\n",
    "                cv2.putText(frame, texte[0] + \" (Non Admis)\", (x, y-10), cv2.FONT_HERSHEY_SIMPLEX, 1, (255, 255, 255), 2)\n",
    "                cv2.rectangle(frame, (x, y), (x + l, y + l), (0, 0, 255), 2)\n",
    "            \n",
    "        cv2.imshow('Reconnaissance faciale en temps réel', frame)\n",
    "        \n",
    "        if cv2.waitKey(1) == 27:\n",
    "            break\n",
    "            \n",
    "    else:\n",
    "            print(\"erreur\")\n",
    "            break\n",
    "            \n",
    "cv2.destroyAllWindows()\n",
    "camera.release()"
   ],
   "metadata": {
    "collapsed": false
   },
   "id": "d6ed51eab6258da9",
   "execution_count": null
  }
 ],
 "metadata": {
  "kernelspec": {
   "display_name": "Python 3",
   "language": "python",
   "name": "python3"
  },
  "language_info": {
   "codemirror_mode": {
    "name": "ipython",
    "version": 2
   },
   "file_extension": ".py",
   "mimetype": "text/x-python",
   "name": "python",
   "nbconvert_exporter": "python",
   "pygments_lexer": "ipython2",
   "version": "2.7.6"
  }
 },
 "nbformat": 4,
 "nbformat_minor": 5
}

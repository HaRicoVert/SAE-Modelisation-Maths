{
 "cells": [
  {
   "cell_type": "markdown",
   "source": [
    ">## Partie 1 : Génération de données"
   ],
   "metadata": {
    "collapsed": false
   },
   "id": "4017515980c4ebeb"
  },
  {
   "cell_type": "markdown",
   "source": [
    "# Bibliothèques"
   ],
   "metadata": {
    "collapsed": false
   },
   "id": "648762d32a5aaa6b"
  },
  {
   "cell_type": "markdown",
   "source": [
    "- On utilise la bibliothèque ``OpenCV`` pour la manipulation des images.\n",
    "- La bibliothèque ``numpy`` pour la manipulation des tableaux.\n",
    "- La bibliothèque ``matplotlib`` pour l'affichage des images.\n",
    "- La bibliothèque ``pickle`` pour la sauvegarde des données.\n",
    "- La bibliothèque ``os`` pour la manipulation des fichiers."
   ],
   "metadata": {
    "collapsed": false
   },
   "id": "8d296ef2c0f1ce82"
  },
  {
   "cell_type": "code",
   "outputs": [],
   "source": [
    "import os\n",
    "import cv2\n",
    "import pickle\n",
    "import numpy as np\n",
    "from matplotlib import pyplot as plt"
   ],
   "metadata": {
    "collapsed": false
   },
   "id": "d9748166a1bb3682",
   "execution_count": null
  },
  {
   "cell_type": "markdown",
   "source": [
    "# Création des données"
   ],
   "metadata": {
    "collapsed": false
   },
   "id": "68b9b6d04f4460e1"
  },
  {
   "cell_type": "markdown",
   "source": [
    "Le code ci-dessous permet de créer un dataset d'images qui vont être utilisées pour la reconnaissance faciale. Ce dataset contient des images des visages de gens qui utiliseront le notebook. Pour chaque personne, on prend 30 images. On utilise la webcam pour capturer les images.\n",
    "\n",
    "Le code se déroule comme suit :\n",
    "- On demande le prénom de l'utilisateur, on demande également s'il est admis ou non.\n",
    "- On utilise la caméra pour capturer les images, on détecte le visage à l'aide de la méthode ``detectMultiScale`` de la classe ``cv2.CascadeClassifier``.\n",
    "- On convertit l'image en niveau de gris.\n",
    "- On redimensionne l'image pour qu'elle soit de taille 50x50.\n",
    "- Une fois les 30 images capturées, on les stocke dans un tableau.\n",
    "- Puis, on sauvegarde le tableau dans un fichier ``.pkl``.\n",
    "\n",
    "La fonction `sauvegarder_donnees` enregistre dans des fichiers distincts à l'aide de la sérialisation avec `pickle` : \n",
    "- le prénom\n",
    "- le statut d'admission\n",
    "- des images du visage de la personne \n",
    "\n",
    "- Voici une explication détaillée de son fonctionnement, étape par étape :\n",
    "\n",
    "1. **Vérification de l'existence du fichier `prenoms.pkl`** :\n",
    "   - Si le fichier `prenoms.pkl` n'existe pas dans le répertoire `data/`, la fonction crée ce fichier et y enregistre une liste contenant le prénom passé en argument, répété un nombre de fois égal à `nb_images_collectees`.\n",
    "   - Si le fichier existe déjà, il est ouvert en mode lecture (`'rb'`), les prénoms précédemment enregistrés sont chargés dans une liste, puis le prénom passé en argument est ajouté à cette liste autant de fois que spécifié par `nb_images_collectees`. La liste mise à jour est ensuite réenregistrée dans le fichier.\n",
    "\n",
    "2. **Vérification de l'existence du fichier `admis.pkl`** :\n",
    "   - Un processus similaire est suivi pour le fichier `admis.pkl`, qui stocke les statuts d'admission. Si le fichier n'existe pas, il est créé et une liste contenant le statut d'admission (`admi`) répété est enregistrée. Si le fichier existe, le statut d'admission est ajouté à la liste existante et sauvegardée de nouveau.\n",
    "\n",
    "3. **Vérification de l'existence du fichier `visages.pkl`** :\n",
    "   - Pour le fichier `visages.pkl`, qui stocke les images de visages, la vérification est également faite. Si le fichier n'existe pas, il est créé et les données de visage (`visage`) sont enregistrées directement.\n",
    "   - Si le fichier existe déjà, les données de visage précédemment enregistrées sont chargées, et les nouvelles données de visage sont ajoutées à cette collection. La mise à jour des données est ensuite sauvegardée dans le fichier."
   ],
   "metadata": {
    "collapsed": false
   },
   "id": "3a205a32a0c13ee7"
  },
  {
   "cell_type": "raw",
   "source": [],
   "metadata": {
    "collapsed": false
   },
   "id": "5ba89755d4144cb0"
  },
  {
   "cell_type": "code",
   "outputs": [],
   "source": [
    "# On vérifie si le dossier 'data' existe, sinon on le crée\n",
    "if not os.path.exists(\"data\"):\n",
    "    os.mkdir(\"data\")\n",
    "\n",
    "# On définit le nombre d'images de visage à collecter par personne\n",
    "nb_images_collectees = 30\n",
    "\n",
    "# Capture de la webcam\n",
    "camera = cv2.VideoCapture(0) \n",
    "\n",
    "# Classifieur pour la détection de visage\n",
    "cascade_visage = cv2.CascadeClassifier(cv2.data.haarcascades + 'haarcascade_frontalface_default.xml')\n",
    "        \n",
    "# Demande à l'utilisateur de saisir son prénom et s'il est admis\n",
    "prenom = input(\"Entrez votre prénom : \")\n",
    "admis = input(\"Êtes-vous admis ? (oui/non) : \").lower() == \"oui\"\n",
    "    \n",
    "def photo():\n",
    "    # Initialisation du compteur et de la liste pour stocker les visages\n",
    "    count = 0\n",
    "    donnees_visage = []\n",
    "    \n",
    "    while True:\n",
    "        # Capture une image de la vidéo\n",
    "        ret, frame = camera.read()\n",
    "        \n",
    "        if ret:\n",
    "            # Détecte les visages dans l'image\n",
    "            coordonnees_visage = cascade_visage.detectMultiScale(cv2.cvtColor(frame, cv2.COLOR_BGR2GRAY), 1.3, 4)\n",
    "    \n",
    "            for (a, b, w, h) in coordonnees_visage:\n",
    "                # Enregistre une image de visage tous les 10 frames, jusqu'à atteindre le nombre désiré\n",
    "                if count % 10 == 0 and len(donnees_visage) < nb_images_collectees:\n",
    "                    donnees_visage.append(cv2.resize(frame[b:b+h, a:a+w, :], (50, 50)))\n",
    "                    \n",
    "                # Dessine un rectangle autour de chaque visage détecté\n",
    "                cv2.rectangle(frame, (a, b), (a+w, b+h), (255, 0, 0), 2)\n",
    "                \n",
    "            count += 1\n",
    "    \n",
    "            # Affiche l'image avec les rectangles\n",
    "            cv2.imshow('Visages', frame)\n",
    "    \n",
    "            # Quitte la boucle si l'utilisateur appuie sur 'Esc' ou si le nombre d'images collectées est atteint\n",
    "            if cv2.waitKey(1) == 27 or len(donnees_visage) >= nb_images_collectees:\n",
    "                break\n",
    "        else:\n",
    "            print('Erreur')\n",
    "            break\n",
    "        \n",
    "    cv2.destroyAllWindows()\n",
    "    camera.release(\n",
    "    \n",
    "    return np.asarray(donnees_visage)\n",
    "\n",
    "def sauvegarder_donnees(prenom, admi, visage):\n",
    "    # Sauvegarde le prénom dans 'prenoms.pkl', ajoute si le fichier existe déjà\n",
    "    if 'prenoms.pkl' not in os.listdir('data/'):\n",
    "        with open('data/prenoms.pkl', 'wb') as file:\n",
    "            pickle.dump([prenom]*nb_images_collectees, file)\n",
    "    else:\n",
    "        with open('data/prenoms.pkl', 'rb') as file:\n",
    "            prenoms = pickle.load(file)\n",
    "    \n",
    "        with open('data/prenoms.pkl', 'wb') as file:\n",
    "            pickle.dump(prenoms + [prenom]*nb_images_collectees, file)\n",
    "    \n",
    "    # Sauvegarde le statut d'admission dans 'admis.pkl', ajoute si le fichier existe déjà\n",
    "    if 'admis.pkl' not in os.listdir('data/'):\n",
    "        with open('data/admis.pkl', 'wb') as file:\n",
    "            pickle.dump([admi]*nb_images_collectees, file)\n",
    "    else:\n",
    "        with open('data/admis.pkl', 'rb') as file:\n",
    "            admis = pickle.load(file)\n",
    "    \n",
    "        with open('data/admis.pkl', 'wb') as file:\n",
    "            pickle.dump(admis + [admi]*nb_images_collectees, file)\n",
    "    \n",
    "    # Sauvegarde les données de visage dans 'visages.pkl', ajoute si le fichier existe déjà\n",
    "    if 'visages.pkl' not in os.listdir('data/'):\n",
    "        with open('data/visages.pkl', 'wb') as w:\n",
    "            pickle.dump(donnees_visage, w)\n",
    "    else:\n",
    "        with open('data/visages.pkl', 'rb') as w:\n",
    "            visages = pickle.load(w)\n",
    "            \n",
    "        visages = np.append(visages, visage, axis=0)\n",
    "        with open('data/visages.pkl', 'wb') as w:\n",
    "            pickle.dump(visages, w)\n",
    "    \n",
    "donnees_visage = photo()\n",
    "sauvegarder_donnees(prenom, admis, donnees_visage)"
   ],
   "metadata": {
    "collapsed": false
   },
   "id": "ce1e0db75813eed8",
   "execution_count": null
  },
  {
   "cell_type": "markdown",
   "source": [
    "# Affichage des données"
   ],
   "metadata": {
    "collapsed": false
   },
   "id": "c469f1252553b485"
  },
  {
   "cell_type": "markdown",
   "source": [
    "Le code ci-dessous permet d'afficher les images des visages qui ont été capturées. On utilise la méthode ``imshow`` de la bibliothèque ``matplotlib`` pour afficher les images. On affiche une photo par personne enregistrée. On affiche également le prénom de la personne et son statut d'admission."
   ],
   "metadata": {
    "collapsed": false
   },
   "id": "310dc6da9e3cdd44"
  },
  {
   "cell_type": "code",
   "outputs": [],
   "source": [
    "# Définit une fonction pour afficher les données stockées\n",
    "def afficher_donnees():\n",
    "    # On ouvre et charge la liste des prénoms depuis le fichier 'prenoms.pkl'\n",
    "    with open('data/prenoms.pkl', 'rb') as file:\n",
    "        prenoms = pickle.load(file)\n",
    "\n",
    "    # On ouvre et charge la liste des images de visages depuis le fichier 'visages.pkl'\n",
    "    with open('data/visages.pkl', 'rb') as file:\n",
    "        visages = pickle.load(file)\n",
    "\n",
    "    # On ouvre et charge la liste des statuts d'admission depuis le fichier 'admis.pkl'\n",
    "    with open('data/admis.pkl', 'rb') as file:\n",
    "        admis = pickle.load(file)\n",
    "\n",
    "    # Boucle sur les indices des visages avec un pas égal au nombre total d'images collectées pour chaque personne\n",
    "    for i in range(0, len(visages), nb_images_collectees):\n",
    "        plt.figure()\n",
    "        # On affiche l'image du visage à l'indice i\n",
    "        plt.imshow(visages[i]) \n",
    "        # On affiche le prénom et le statut d'admission de la personne\n",
    "        plt.title(prenoms[i] + \" | Admis: \" + str(admis[i]))\n",
    "        \n",
    "afficher_donnees()"
   ],
   "metadata": {
    "collapsed": false
   },
   "id": "1483d16fdedbb0de",
   "execution_count": null
  }
 ],
 "metadata": {
  "kernelspec": {
   "display_name": "Python 3",
   "language": "python",
   "name": "python3"
  },
  "language_info": {
   "codemirror_mode": {
    "name": "ipython",
    "version": 2
   },
   "file_extension": ".py",
   "mimetype": "text/x-python",
   "name": "python",
   "nbconvert_exporter": "python",
   "pygments_lexer": "ipython2",
   "version": "2.7.6"
  }
 },
 "nbformat": 4,
 "nbformat_minor": 5
}
